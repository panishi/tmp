{
 "cells": [
  {
   "cell_type": "markdown",
   "id": "f0148873",
   "metadata": {},
   "source": [
    "### 12.2.3　数値結果"
   ]
  },
  {
   "cell_type": "code",
   "execution_count": 1,
   "id": "bef3ad3d",
   "metadata": {},
   "outputs": [
    {
     "name": "stderr",
     "output_type": "stream",
     "text": [
      "Warning message:\n",
      "\"package 'dlm' was built under R version 3.6.3\""
     ]
    },
    {
     "data": {
      "image/png": "[encoded data removed]",
      "text/plain": [
       "plot without title"
      ]
     },
     "metadata": {},
     "output_type": "display_data"
    }
   ],
   "source": [
    "#【ナイル川の流量データにローカルレベルモデルを適用（時変カルマンフィルタ）】\n",
    "\n",
    "# 前処理\n",
    "set.seed(123)\n",
    "library(dlm)\n",
    "\n",
    "# ナイル川の流量データ\n",
    "y <- Nile\n",
    "t_max <- length(y)\n",
    "\n",
    "# ローカルレベルモデルを構築する関数（状態雑音の分散が時変）\n",
    "build_dlm <- function(par) {\n",
    "  tmp <- dlmModPoly(order = 1, dV = exp(par[1]))\n",
    "\n",
    "  # 状態雑音の分散はXの1列目を参照する\n",
    "  tmp$JW <- matrix(1, nrow = 1, ncol = 1)\n",
    "\n",
    "  # Xの1列目に状態雑音の分散を格納する\n",
    "  tmp$X <- matrix(exp(par[2]), nrow = t_max, ncol = 1)\n",
    "\n",
    "  # 1899年の状態雑音のみ増加を許容\n",
    "  j <- which(time(y) == 1899)\n",
    "  tmp$X[j, 1] <- tmp$X[j, 1] * exp(par[3])\n",
    "\n",
    "  return(tmp)\n",
    "}\n",
    "\n",
    "# パラメータの最尤推定\n",
    "fit_dlm <- dlmMLE(y = y, parm = rep(0, 3), build = build_dlm)\n",
    "modtv <- build_dlm(fit_dlm$par)\n",
    "\n",
    "# カルマン平滑化\n",
    "dlmSmoothed_obj <- dlmSmooth(y = y, mod = modtv)\n",
    "\n",
    "# 平滑化分布の平均\n",
    "stv <- dropFirst(dlmSmoothed_obj$s)\n",
    "\n",
    "# プロット\n",
    "ts.plot(cbind(y, stv),\n",
    "        lty=c(\"solid\", \"solid\"),\n",
    "        col=c(\"lightgray\", \"black\"))\n",
    "\n",
    "# 凡例\n",
    "legend(legend = c(\"観測値\", \"平均 （時変カルマン平滑化)\"),\n",
    "       lty = c(\"solid\", \"solid\"),\n",
    "       col = c(\"lightgray\", \"black\"),\n",
    "       x = \"topright\", cex = 0.6)"
   ]
  },
  {
   "cell_type": "markdown",
   "id": "1d5c2a8f",
   "metadata": {},
   "source": [
    "まず，ユーザ定義関数 `build_dlm()` で時変のモデルを構築する．  \n",
    "この関数の中では，関数 `dlmModPoly()` を使ってモデルのテンプレート `tmp` を作る．  \n",
    "時変の状態雑音の分散を考慮するため，`tmp$JW` に1 (1×1 の行列) を設定する．  \n",
    "時変の状態雑音の分散の具体的な値は `tmp$X` の1 列目に格納されることになるため，一旦全時点にベースとなる時不変の値を一律に設定している．  \n",
    "その中でも1899年だけに正の倍率がかかるように，`tmp$X` の値を書き換えている．  \n",
    "\n",
    "このようにして作成したモデル構築関数 `build_dlm()` を用いて，パラメータを最尤推定する．"
   ]
  }
 ],
 "metadata": {
  "kernelspec": {
   "display_name": "R",
   "language": "R",
   "name": "ir"
  },
  "language_info": {
   "codemirror_mode": "r",
   "file_extension": ".r",
   "mimetype": "text/x-r-source",
   "name": "R",
   "pygments_lexer": "r",
   "version": "3.6.1"
  }
 },
 "nbformat": 4,
 "nbformat_minor": 5
}
