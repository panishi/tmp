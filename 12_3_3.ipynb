{
 "cells": [
  {
   "cell_type": "markdown",
   "id": "a9b70a9e",
   "metadata": {},
   "source": [
    "### 12.3.3　数値結果"
   ]
  },
  {
   "cell_type": "code",
   "execution_count": null,
   "id": "c9d6827c",
   "metadata": {},
   "outputs": [],
   "source": [
    "#【ナイル川の流量データにローカルレベルモデルを適用（時変MCMC：馬蹄分布）】\n",
    "\n",
    "# 前処理\n",
    "set.seed(123)\n",
    "library(rstan)\n",
    "\n",
    "# Stanの事前設定：コードのHDD保存、並列演算、グラフの縦横比\n",
    "rstan_options(auto_write = TRUE)\n",
    "options(mc.cores = parallel::detectCores())\n",
    "theme_set(theme_get() + theme(aspect.ratio = 3/4))\n",
    "\n",
    "# モデル：生成・コンパイル\n",
    "stan_mod_out <- stan_model(file = \"model12-1.stan\")\n",
    "\n",
    "# 平滑化：実行（サンプリング）\n",
    "fit_stan <- sampling(object = stan_mod_out,\n",
    "                     data = list(t_max = t_max, y = y, \n",
    "                                 miss = as.integer(is.na(y)),\n",
    "                                 m0 = modtv$m0, C0 = modtv$C0[1, 1]),\n",
    "                     pars = c(\"lambda\", \"W_sqrt\", \"V_sqrt\"),\n",
    "                     seed = 123\n",
    "            )\n",
    "\n",
    "# 結果の確認\n",
    "oldpar <- par(no.readonly = TRUE); options(max.print = 99999)\n",
    "print(fit_stan, probs = c(0.025, 0.5, 0.975))\n",
    "options(oldpar)\n",
    "traceplot(fit_stan, pars = c(\"W_sqrt\", \"V_sqrt\"), alpha = 0.5)\n",
    "\n",
    "# カルマンフィルタのモデルをコピーして修正\n",
    "modtv_MCMC <- modtv\n",
    "modtv_MCMC$X[ , 1] <- (summary(fit_stan)$summary[   1:100, \"mean\"] *\n",
    "                       summary(fit_stan)$summary[\"W_sqrt\", \"mean\"])^2\n",
    "modtv_MCMC$V[1, 1] <- (summary(fit_stan)$summary[\"V_sqrt\", \"mean\"])^2\n",
    "as.vector(modtv_MCMC$X); modtv_MCMC$V\n",
    "\n",
    "# カルマン平滑化\n",
    "dlmSmoothed_obj <- dlmSmooth(y = y, mod = modtv_MCMC)\n",
    "\n",
    "# 平滑化分布の平均\n",
    "stv_MCMC <- dropFirst(dlmSmoothed_obj$s)\n",
    "\n",
    "# プロット\n",
    "ts.plot(cbind(y, stv_MCMC, stv),\n",
    "        lty=c(\"solid\", \"solid\", \"dashed\"),\n",
    "        col=c(\"lightgray\", \"blue\", \"red\"))\n",
    "\n",
    "# 凡例\n",
    "legend(legend = c(\"観測値\", \"平均（時変MCMC：馬蹄分布)\", \"平均（時変カルマン平滑化）\"),\n",
    "       lty = c(\"solid\", \"solid\", \"dashed\"),\n",
    "       col = c(\"lightgray\", \"blue\", \"red\"),\n",
    "       x = \"topright\", cex = 0.7)"
   ]
  }
 ],
 "metadata": {
  "kernelspec": {
   "display_name": "R",
   "language": "R",
   "name": "ir"
  },
  "language_info": {
   "codemirror_mode": "r",
   "file_extension": ".r",
   "mimetype": "text/x-r-source",
   "name": "R",
   "pygments_lexer": "r",
   "version": "3.6.1"
  }
 },
 "nbformat": 4,
 "nbformat_minor": 5
}
